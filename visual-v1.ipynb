{
 "cells": [
  {
   "cell_type": "code",
   "execution_count": 1,
   "metadata": {},
   "outputs": [],
   "source": [
    "import pandas as pd\n",
    "import numpy as np\n",
    "import random\n",
    "import string\n",
    "import datetime\n",
    "import csv"
   ]
  },
  {
   "cell_type": "code",
   "execution_count": 2,
   "metadata": {},
   "outputs": [],
   "source": [
    "files = [\n",
    "    \"export/abschluss2019.csv\",\n",
    "    \"export/abschluss2020.csv\",\n",
    "    \"export/abschluss2021-0.csv\",\n",
    "    \"export/abschluss2021-1.csv\",\n",
    "    \"export/abschluss2022.csv\",\n",
    "    \"export/abschluss2007.csv\",\n",
    "    \"export/abschluss2017.csv\",\n",
    "    \"export/abschluss2018.csv\",\n",
    "    \"export/externe.csv\",\n",
    "]"
   ]
  },
  {
   "cell_type": "markdown",
   "metadata": {},
   "source": [
    "Daten einlesen"
   ]
  },
  {
   "cell_type": "code",
   "execution_count": 3,
   "metadata": {},
   "outputs": [
    {
     "name": "stdout",
     "output_type": "stream",
     "text": [
      "Reading export/abschluss2019.csv\n",
      "Reading export/abschluss2020.csv\n",
      "Reading export/abschluss2021-0.csv\n",
      "Reading export/abschluss2021-1.csv\n",
      "Reading export/abschluss2022.csv\n",
      "Reading export/abschluss2007.csv\n",
      "Reading export/abschluss2017.csv\n",
      "Reading export/abschluss2018.csv\n",
      "Reading export/externe.csv\n"
     ]
    }
   ],
   "source": [
    "dfs = []\n",
    "\n",
    "for file in files:\n",
    "    print(f\"Reading {file}\")\n",
    "    dfs.append(pd.read_csv(file, sep=\",\", encoding=\"ISO-8859-1\"))\n",
    "\n",
    "df = pd.concat(dfs, ignore_index=True)"
   ]
  },
  {
   "cell_type": "markdown",
   "metadata": {},
   "source": [
    "Struktur ausgeben"
   ]
  },
  {
   "cell_type": "code",
   "execution_count": 4,
   "metadata": {},
   "outputs": [
    {
     "name": "stdout",
     "output_type": "stream",
     "text": [
      "Users: 2985\n",
      "Users: Index(['Name', 'Type', 'Description', 'Display Name', 'E-Mail Address',\n",
      "       'Company', 'Job Title', 'Last Name', 'First Name', 'User Logon Name',\n",
      "       'Department'],\n",
      "      dtype='object')\n"
     ]
    }
   ],
   "source": [
    "print(f\"Users: {len(df)}\")\n",
    "print(f\"Users: {df.columns}\")"
   ]
  },
  {
   "cell_type": "markdown",
   "metadata": {},
   "source": [
    "Nicht benötigte Zeilen entfernen(werden später neu generiert)"
   ]
  },
  {
   "cell_type": "code",
   "execution_count": 5,
   "metadata": {},
   "outputs": [
    {
     "name": "stdout",
     "output_type": "stream",
     "text": [
      "Users: Removing columns: ['Name', 'Display Name', 'E-Mail Address', 'Company', 'Job Title', 'User Logon Name', 'Department']\n",
      "Users: Index(['Type', 'Description', 'Last Name', 'First Name'], dtype='object')\n"
     ]
    }
   ],
   "source": [
    "columns_to_remove = ['Name', 'Display Name', 'E-Mail Address', 'Company', 'Job Title', 'User Logon Name', 'Department']\n",
    "print(f\"Users: Removing columns: {columns_to_remove}\")\n",
    "df = df.drop(columns=columns_to_remove)\n",
    "print(f\"Users: {df.columns}\")"
   ]
  },
  {
   "cell_type": "markdown",
   "metadata": {},
   "source": [
    "#### Display Name generieren\n",
    "- Vorname + Nachname"
   ]
  },
  {
   "cell_type": "code",
   "execution_count": 6,
   "metadata": {},
   "outputs": [
    {
     "name": "stdout",
     "output_type": "stream",
     "text": [
      "Users:                Type         Description  Last Name First Name  \\\n",
      "0  Heidemann Adrian    Oberstufe extern  Heidemann     Adrian   \n",
      "1      Alena Herwig   Oberstufe - Matur     Herwig      Alena   \n",
      "2      Alena Kanone   Oberstufe - Matur     Kanone      Alena   \n",
      "3        Alena Kolb         deaktiviert       Kolb      Alena   \n",
      "4       Heinz Alexa    Oberstufe extern      Heinz      Alexa   \n",
      "\n",
      "       Display Name  \n",
      "0  Adrian Heidemann  \n",
      "1      Alena Herwig  \n",
      "2      Alena Kanone  \n",
      "3        Alena Kolb  \n",
      "4       Alexa Heinz  \n"
     ]
    }
   ],
   "source": [
    "# create a column \"Display Name\" Value = \"First Name\" + \" \" + \"Last Name\"\n",
    "df[\"Display Name\"] = df[\"First Name\"] + \" \" + df[\"Last Name\"]\n",
    "print(f\"Users: {df.head()}\")"
   ]
  },
  {
   "cell_type": "markdown",
   "metadata": {},
   "source": [
    "#### E-Mail generieren\n",
    "- Vorname + Nachname + @gertzstein.local\n",
    "- Sonderzeichen entfernen"
   ]
  },
  {
   "cell_type": "code",
   "execution_count": 7,
   "metadata": {},
   "outputs": [
    {
     "name": "stdout",
     "output_type": "stream",
     "text": [
      "Users:                Type         Description  Last Name First Name  \\\n",
      "0  Heidemann Adrian    Oberstufe extern  Heidemann     Adrian   \n",
      "1      Alena Herwig   Oberstufe - Matur     Herwig      Alena   \n",
      "2      Alena Kanone   Oberstufe - Matur     Kanone      Alena   \n",
      "3        Alena Kolb         deaktiviert       Kolb      Alena   \n",
      "4       Heinz Alexa    Oberstufe extern      Heinz      Alexa   \n",
      "\n",
      "       Display Name                               mail  \n",
      "0  Adrian Heidemann  adrian.heidemann@gertzstein.local  \n",
      "1      Alena Herwig      alena.herwig@gertzstein.local  \n",
      "2      Alena Kanone      alena.kanone@gertzstein.local  \n",
      "3        Alena Kolb        alena.kolb@gertzstein.local  \n",
      "4       Alexa Heinz       alexa.heinz@gertzstein.local  \n"
     ]
    }
   ],
   "source": [
    "df[\"mail\"] = df[\"First Name\"].str.lower() + \".\" + df[\"Last Name\"].str.lower() + \"@gertzstein.local\"\n",
    "df[\"mail\"] = df[\"mail\"].str.replace(\" \", \"-\")\n",
    "df[\"mail\"] = df[\"mail\"].str.replace(\"ä\", \"ae\")\n",
    "df[\"mail\"] = df[\"mail\"].str.replace(\"ü\", \"ue\")\n",
    "df[\"mail\"] = df[\"mail\"].str.replace(\"ö\", \"oe\")\n",
    "\n",
    "print(f\"Users: {df.head()}\")"
   ]
  },
  {
   "cell_type": "markdown",
   "metadata": {},
   "source": [
    "#### Username generieren\n",
    "\n",
    "\"B\" + 6 Zufallszahlen\n",
    "einmalig"
   ]
  },
  {
   "cell_type": "code",
   "execution_count": 8,
   "metadata": {},
   "outputs": [
    {
     "name": "stdout",
     "output_type": "stream",
     "text": [
      "Users:                Type         Description  Last Name First Name  \\\n",
      "0  Heidemann Adrian    Oberstufe extern  Heidemann     Adrian   \n",
      "1      Alena Herwig   Oberstufe - Matur     Herwig      Alena   \n",
      "2      Alena Kanone   Oberstufe - Matur     Kanone      Alena   \n",
      "3        Alena Kolb         deaktiviert       Kolb      Alena   \n",
      "4       Heinz Alexa    Oberstufe extern      Heinz      Alexa   \n",
      "\n",
      "       Display Name                               mail username  \n",
      "0  Adrian Heidemann  adrian.heidemann@gertzstein.local  B296262  \n",
      "1      Alena Herwig      alena.herwig@gertzstein.local  B801639  \n",
      "2      Alena Kanone      alena.kanone@gertzstein.local  B489413  \n",
      "3        Alena Kolb        alena.kolb@gertzstein.local  B848886  \n",
      "4       Alexa Heinz       alexa.heinz@gertzstein.local  B192210  \n"
     ]
    }
   ],
   "source": [
    "df[\"username\"] = \"\"\n",
    "\n",
    "def generate_username():\n",
    "    username = \"B\" + str(np.random.randint(100000, 999999))\n",
    "    while username in df[\"username\"].values:\n",
    "        username = \"B\" + str(np.random.randint(100000, 999999))\n",
    "    return username\n",
    "    \n",
    "df[\"username\"] = df[\"username\"].apply(lambda x: generate_username())\n",
    "print(f\"Users: {df.head()}\")"
   ]
  },
  {
   "cell_type": "markdown",
   "metadata": {},
   "source": [
    "Duplikate entfernen"
   ]
  },
  {
   "cell_type": "code",
   "execution_count": 9,
   "metadata": {},
   "outputs": [
    {
     "name": "stdout",
     "output_type": "stream",
     "text": [
      "Number of Users: 2985\n",
      "Number of Users: 2982\n"
     ]
    }
   ],
   "source": [
    "print(f\"Number of Users: {len(df)}\")\n",
    "df = df.drop_duplicates(subset=[\"mail\"])\n",
    "print(f\"Number of Users: {len(df)}\")"
   ]
  },
  {
   "cell_type": "markdown",
   "metadata": {},
   "source": [
    "Speichern"
   ]
  },
  {
   "cell_type": "code",
   "execution_count": 10,
   "metadata": {},
   "outputs": [
    {
     "name": "stdout",
     "output_type": "stream",
     "text": [
      "File 2024-03-11_13-34-59_students.csv saved\n"
     ]
    }
   ],
   "source": [
    "now = datetime.datetime.now()\n",
    "date_time = now.strftime(\"%Y-%m-%d_%H-%M-%S\")\n",
    "filename_csv = date_time + \"_students\" + \".csv\"\n",
    "\n",
    "df.to_csv(filename_csv, index=False)\n",
    "print(f\"File {filename_csv} saved\")\n"
   ]
  },
  {
   "cell_type": "code",
   "execution_count": 11,
   "metadata": {},
   "outputs": [
    {
     "name": "stdout",
     "output_type": "stream",
     "text": [
      "File 2024-03-11_13-34-59_students.csv saved\n"
     ]
    }
   ],
   "source": [
    "with open(filename_csv, 'r') as file :\n",
    "  filedata = file.read()\n",
    "  \n",
    "filedata = filedata.replace(',', '\";\"')\n",
    "\n",
    "filedata = '\\n'.join(['\"' + line + '\"' for line in filedata.splitlines()])\n",
    "\n",
    "\n",
    "with open(filename_csv, 'w') as file:\n",
    "    file.write(filedata)\n",
    "    \n",
    "print(f\"File {filename_csv} saved\")"
   ]
  }
 ],
 "metadata": {
  "kernelspec": {
   "display_name": ".venv",
   "language": "python",
   "name": "python3"
  },
  "language_info": {
   "codemirror_mode": {
    "name": "ipython",
    "version": 3
   },
   "file_extension": ".py",
   "mimetype": "text/x-python",
   "name": "python",
   "nbconvert_exporter": "python",
   "pygments_lexer": "ipython3",
   "version": "3.12.2"
  }
 },
 "nbformat": 4,
 "nbformat_minor": 2
}
